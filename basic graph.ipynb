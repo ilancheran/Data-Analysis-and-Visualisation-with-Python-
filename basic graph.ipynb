{
 "cells": [
  {
   "cell_type": "code",
   "execution_count": 13,
   "id": "e51cebfb",
   "metadata": {},
   "outputs": [],
   "source": [
    "#making a basic bokeh line graph\n",
    "\n",
    "#importing Bokeh\n",
    "\n",
    "from bokeh.plotting import figure\n",
    "from bokeh.io import output_file, show\n",
    "\n",
    "#prepare some data\n",
    "x=[1,2,3,4,5]\n",
    "y=[6,7,8,9,10]\n",
    "\n",
    "\n",
    "#prepare the output file\n",
    "output_file(\"Line.html\")\n",
    "\n",
    "#create a figure object\n",
    "f=figure()\n",
    "\n",
    "#create Line plot\n",
    "f.circle(x,y)\n",
    "\n",
    "show(f)\n",
    "\n"
   ]
  },
  {
   "cell_type": "code",
   "execution_count": 1,
   "id": "0385a1f7",
   "metadata": {},
   "outputs": [],
   "source": [
    "#making a basic bokeh line graph\n",
    "\n",
    "#importing Bokeh and pandas\n",
    "\n",
    "from bokeh.plotting import figure\n",
    "from bokeh.io import output_file, show\n",
    "import pandas\n",
    "\n",
    "#prepare some data\n",
    "df=pandas.read_csv(\"data.csv\")\n",
    "x=df[\"x\"]\n",
    "y=df[\"y\"]\n",
    "\n",
    "\n",
    "#prepare the output file\n",
    "output_file(\"Line_from_csv.html\")\n",
    "\n",
    "#create a figure object\n",
    "f=figure()\n",
    "\n",
    "#create Line plot\n",
    "f.line(x,y)\n",
    "\n",
    "show(f)\n",
    "\n"
   ]
  },
  {
   "cell_type": "code",
   "execution_count": 6,
   "id": "06eb5431",
   "metadata": {},
   "outputs": [],
   "source": [
    "#making a basic bokeh line graph\n",
    "\n",
    "#importing Bokeh and pandas\n",
    "\n",
    "from bokeh.plotting import figure\n",
    "from bokeh.io import output_file, show\n",
    "import pandas\n",
    "\n",
    "#prepare some data\n",
    "df=pandas.read_csv(\"bachelors.csv\")\n",
    "x=df[\"Year\"]\n",
    "y=df[\"Engineering\"]\n",
    "\n",
    "\n",
    "#prepare the output file\n",
    "output_file(\"Line_from_bachelor.html\")\n",
    "\n",
    "#create a figure object\n",
    "f=figure()\n",
    "\n",
    "#create Line plot\n",
    "f.line(x,y)\n",
    "\n",
    "show(f)\n",
    "\n"
   ]
  },
  {
   "cell_type": "code",
   "execution_count": 21,
   "id": "d0d22ca0",
   "metadata": {},
   "outputs": [
    {
     "ename": "SyntaxError",
     "evalue": "keyword argument repeated: df (Temp/ipykernel_5972/3071350778.py, line 8)",
     "output_type": "error",
     "traceback": [
      "\u001b[1;36m  File \u001b[1;32m\"C:\\Users\\ILAMPA~1\\AppData\\Local\\Temp/ipykernel_5972/3071350778.py\"\u001b[1;36m, line \u001b[1;32m8\u001b[0m\n\u001b[1;33m    p.line(df=[\"Date\"],df=[\"Close\"])\u001b[0m\n\u001b[1;37m                       ^\u001b[0m\n\u001b[1;31mSyntaxError\u001b[0m\u001b[1;31m:\u001b[0m keyword argument repeated: df\n"
     ]
    }
   ],
   "source": [
    "from bokeh.plotting import figure , output_file , show\n",
    "import pandas\n",
    "\n",
    "df=pandas.read_csv(\"adbe.csv\",parse_dates=[\"Date\"])\n",
    "\n",
    "p=figure(width=500,height=250,x_axis_type=\"datetime\",sizing_mode=\"scale_width\")\n",
    "\n",
    "p.line(df=[\"Date\"],df=[\"Close\"])\n",
    "\n",
    "output_file(\"timeseries.html\")\n",
    "\n",
    "show(p)"
   ]
  },
  {
   "cell_type": "code",
   "execution_count": null,
   "id": "9ff36dc4",
   "metadata": {},
   "outputs": [],
   "source": []
  }
 ],
 "metadata": {
  "kernelspec": {
   "display_name": "Python 3 (ipykernel)",
   "language": "python",
   "name": "python3"
  },
  "language_info": {
   "codemirror_mode": {
    "name": "ipython",
    "version": 3
   },
   "file_extension": ".py",
   "mimetype": "text/x-python",
   "name": "python",
   "nbconvert_exporter": "python",
   "pygments_lexer": "ipython3",
   "version": "3.9.7"
  }
 },
 "nbformat": 4,
 "nbformat_minor": 5
}
